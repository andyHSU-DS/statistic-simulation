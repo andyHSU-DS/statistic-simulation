{
 "cells": [
  {
   "cell_type": "code",
   "execution_count": 1,
   "metadata": {},
   "outputs": [],
   "source": [
    "import pandas as pd"
   ]
  },
  {
   "cell_type": "code",
   "execution_count": 2,
   "metadata": {},
   "outputs": [],
   "source": [
    "data=pd.read_csv(r'/Users/andyhsu/Desktop/statistic/ANOVA/consumption_data.csv',encoding='big5')"
   ]
  },
  {
   "cell_type": "code",
   "execution_count": 3,
   "metadata": {},
   "outputs": [
    {
     "data": {
      "text/html": [
       "<div>\n",
       "<style scoped>\n",
       "    .dataframe tbody tr th:only-of-type {\n",
       "        vertical-align: middle;\n",
       "    }\n",
       "\n",
       "    .dataframe tbody tr th {\n",
       "        vertical-align: top;\n",
       "    }\n",
       "\n",
       "    .dataframe thead th {\n",
       "        text-align: right;\n",
       "    }\n",
       "</style>\n",
       "<table border=\"1\" class=\"dataframe\">\n",
       "  <thead>\n",
       "    <tr style=\"text-align: right;\">\n",
       "      <th></th>\n",
       "      <th>地區</th>\n",
       "      <th>廣告</th>\n",
       "      <th>消費金額</th>\n",
       "    </tr>\n",
       "  </thead>\n",
       "  <tbody>\n",
       "    <tr>\n",
       "      <th>0</th>\n",
       "      <td>南部</td>\n",
       "      <td>廣告1</td>\n",
       "      <td>20.83</td>\n",
       "    </tr>\n",
       "    <tr>\n",
       "      <th>1</th>\n",
       "      <td>南部</td>\n",
       "      <td>廣告1</td>\n",
       "      <td>21.45</td>\n",
       "    </tr>\n",
       "    <tr>\n",
       "      <th>2</th>\n",
       "      <td>中部</td>\n",
       "      <td>廣告1</td>\n",
       "      <td>27.09</td>\n",
       "    </tr>\n",
       "    <tr>\n",
       "      <th>3</th>\n",
       "      <td>南部</td>\n",
       "      <td>廣告1</td>\n",
       "      <td>14.09</td>\n",
       "    </tr>\n",
       "    <tr>\n",
       "      <th>4</th>\n",
       "      <td>南部</td>\n",
       "      <td>廣告1</td>\n",
       "      <td>31.23</td>\n",
       "    </tr>\n",
       "    <tr>\n",
       "      <th>...</th>\n",
       "      <td>...</td>\n",
       "      <td>...</td>\n",
       "      <td>...</td>\n",
       "    </tr>\n",
       "    <tr>\n",
       "      <th>355</th>\n",
       "      <td>南部</td>\n",
       "      <td>廣告3</td>\n",
       "      <td>9.69</td>\n",
       "    </tr>\n",
       "    <tr>\n",
       "      <th>356</th>\n",
       "      <td>北部</td>\n",
       "      <td>廣告3</td>\n",
       "      <td>10.29</td>\n",
       "    </tr>\n",
       "    <tr>\n",
       "      <th>357</th>\n",
       "      <td>南部</td>\n",
       "      <td>廣告3</td>\n",
       "      <td>25.52</td>\n",
       "    </tr>\n",
       "    <tr>\n",
       "      <th>358</th>\n",
       "      <td>北部</td>\n",
       "      <td>廣告3</td>\n",
       "      <td>19.26</td>\n",
       "    </tr>\n",
       "    <tr>\n",
       "      <th>359</th>\n",
       "      <td>南部</td>\n",
       "      <td>廣告3</td>\n",
       "      <td>2.45</td>\n",
       "    </tr>\n",
       "  </tbody>\n",
       "</table>\n",
       "<p>360 rows × 3 columns</p>\n",
       "</div>"
      ],
      "text/plain": [
       "     地區   廣告   消費金額\n",
       "0    南部  廣告1  20.83\n",
       "1    南部  廣告1  21.45\n",
       "2    中部  廣告1  27.09\n",
       "3    南部  廣告1  14.09\n",
       "4    南部  廣告1  31.23\n",
       "..   ..  ...    ...\n",
       "355  南部  廣告3   9.69\n",
       "356  北部  廣告3  10.29\n",
       "357  南部  廣告3  25.52\n",
       "358  北部  廣告3  19.26\n",
       "359  南部  廣告3   2.45\n",
       "\n",
       "[360 rows x 3 columns]"
      ]
     },
     "execution_count": 3,
     "metadata": {},
     "output_type": "execute_result"
    }
   ],
   "source": [
    "data"
   ]
  },
  {
   "cell_type": "code",
   "execution_count": 4,
   "metadata": {},
   "outputs": [],
   "source": [
    "alist = data[data ['廣告'] == '廣告1']['消費金額'].tolist()\n",
    "blist = data[data ['廣告'] == '廣告2']['消費金額'].tolist()\n",
    "clist = data[data ['廣告'] == '廣告3']['消費金額'].tolist()"
   ]
  },
  {
   "cell_type": "code",
   "execution_count": 5,
   "metadata": {},
   "outputs": [
    {
     "name": "stdout",
     "output_type": "stream",
     "text": [
      "alist: [20.83, 21.45, 27.09, 14.09, 31.23, 27.2, 26.65, 22.22, 21.68, 22.62, 12.89, 17.17, 15.86, 14.41, 14.88, 10.62, 16.81, 11.52, 15.84, 16.7, 18.3, 24.57, 21.74, 20.56, 17.35, 17.04, 20.2, 19.73, 24.23, 14.14, 18.52, 18.64, 15.61, 21.62, 13.22, 14.16, 14.65, 19.71, 17.84, 19.53, 15.18, 20.44, 26.66, 20.3, 29.63, 23.87, 14.36, 20.99, 15.19, 21.39, 21.43, 17.81, 9.36, 29.45, 12.69, 14.32, 9.79, 22.08, 14.63, 11.68, 7.98, 8.05, 8.19, 18.14, 28.34, 6.08, 13.13, 11.71, 17.69, 17.72, 7.44, 18.07, 26.62, 6.9, 11.44, 26.96, 17.9, 10.84, 15.88, 10.17, 14.99, 16.0, 18.35, 6.54, 6.92, 14.6, 24.66, 17.4, 17.72, 11.9, 16.81, 23.21, 18.96, 19.38, 3.58, 19.35, 12.63, 4.72, 12.43, 28.97, 12.52, 25.36, 8.41, 25.26, 17.77, 18.23, 8.97, 11.89, 14.03, 15.5, 17.62, 15.43, 16.82, 20.7, 15.34, 19.84, 13.75, 19.0, 22.23, 14.81]\n",
      "blist: [20.23, 18.1, 12.34, 24.08, 22.39, 19.79, 19.39, 18.76, 21.6, 23.54, 24.05, 13.31, 12.49, 12.18, 18.48, 18.13, 25.57, 25.15, 20.68, 19.87, 8.12, 12.04, 24.12, 30.84, 19.44, 14.37, 18.41, 16.16, 19.16, 11.99, 9.6, 9.62, 9.78, 11.59, 15.38, 18.89, 23.48, 8.75, 15.68, 11.08, 21.45, 2.18, 19.48, 23.4, 23.25, 19.85, 14.53, 11.33, 21.77, 30.69, 11.83, 17.08, 21.87, 15.16, 20.76, 13.36, 8.6, 15.22, 14.64, 20.54, 8.57, 18.5, 15.38, 11.76, 14.06, 13.54, 15.4, 31.68, 12.96, 18.21, 20.41, 14.14, 19.03, 7.36, 15.82, 16.01, 16.5, 17.58, 11.65, 16.92, 12.02, 14.72, 25.81, 9.75, 17.82, 20.22, 22.86, 11.81, 13.37, 10.89, 11.19, 23.6, 15.37, 18.56, 4.78, 16.24, 7.1, 19.19, 15.26, 6.31, 1.22, 9.91, 15.09, 17.39, 14.64, 4.93, 13.02, 6.67, 10.93, 12.36, 21.06, 7.37, 3.33, 7.12, 5.86, 19.69, 10.94, 8.59, 17.0, 6.0]\n",
      "clist: [8.81, 20.26, 17.46, 25.48, 22.64, 19.99, 19.45, 16.43, 20.63, 14.76, 26.08, 22.07, 25.07, 17.85, 21.66, 18.34, 22.84, 20.89, 18.98, 14.12, 23.17, 18.7, 13.97, 22.62, 18.88, 23.74, 14.61, 21.63, 19.18, 20.3, 15.89, 27.04, 12.75, 23.96, 15.73, 23.71, 14.96, 20.35, 14.79, 7.54, 13.37, 12.49, 3.3, 7.63, 18.38, 1.65, 18.49, 15.91, 14.21, 17.5, 6.04, 9.76, 18.25, 16.33, 4.29, 11.45, 17.09, 5.66, 12.74, 20.28, 14.29, 10.49, 9.48, 11.15, 15.07, 21.88, 0.63, 19.52, 6.24, 16.86, 12.88, 21.33, 10.11, 17.47, 21.28, 19.56, 6.46, 17.44, 16.17, 21.24, 3.9, 22.93, 11.59, 28.84, 7.41, 10.38, 5.84, 6.82, 17.18, 16.29, 16.31, 23.54, 7.7, 12.74, 18.62, 9.71, 25.57, 15.13, 11.07, 13.01, 8.36, 3.76, 23.88, 16.13, 9.6, 19.43, 17.62, 19.08, 25.37, 7.96, 15.56, 12.81, 22.82, 16.87, 17.04, 9.69, 10.29, 25.52, 19.26, 2.45]\n"
     ]
    }
   ],
   "source": [
    "print('alist:',alist)\n",
    "print('blist:',blist)\n",
    "print('clist:',clist)"
   ]
  },
  {
   "cell_type": "markdown",
   "metadata": {},
   "source": [
    "# 事前驗證"
   ]
  },
  {
   "cell_type": "code",
   "execution_count": 6,
   "metadata": {},
   "outputs": [],
   "source": [
    "import scipy.stats as st"
   ]
  },
  {
   "cell_type": "code",
   "execution_count": 7,
   "metadata": {},
   "outputs": [
    {
     "name": "stdout",
     "output_type": "stream",
     "text": [
      "ShapiroResult(statistic=0.9915865659713745, pvalue=0.6819638013839722)\n",
      "ShapiroResult(statistic=0.9929247498512268, pvalue=0.805463969707489)\n",
      "ShapiroResult(statistic=0.9802003502845764, pvalue=0.07433854043483734)\n"
     ]
    }
   ],
   "source": [
    "print(st.shapiro(alist))#statisticm越接近ㄧ，表示與常態分佈越擬合\n",
    "print(st.shapiro(blist))\n",
    "print(st.shapiro(clist))"
   ]
  },
  {
   "cell_type": "code",
   "execution_count": 8,
   "metadata": {},
   "outputs": [
    {
     "name": "stdout",
     "output_type": "stream",
     "text": [
      "LeveneResult(statistic=0.6891243668404422, pvalue=0.5026819827621525)\n"
     ]
    }
   ],
   "source": [
    "print(st.levene(alist,blist,clist,center='mean'))"
   ]
  },
  {
   "cell_type": "code",
   "execution_count": 9,
   "metadata": {},
   "outputs": [
    {
     "data": {
      "text/plain": [
       "F_onewayResult(statistic=2.363535251734209, pvalue=0.0955577857122512)"
      ]
     },
     "execution_count": 9,
     "metadata": {},
     "output_type": "execute_result"
    }
   ],
   "source": [
    "st.f_oneway(alist, blist, clist)"
   ]
  },
  {
   "cell_type": "markdown",
   "metadata": {},
   "source": [
    "# 事後檢定"
   ]
  },
  {
   "cell_type": "code",
   "execution_count": 10,
   "metadata": {},
   "outputs": [],
   "source": [
    "import pingouin\n",
    "from pingouin import pairwise_tukey\n",
    "m_comp = pairwise_tukey(data=data, dv='消費金額', between='廣告')"
   ]
  },
  {
   "cell_type": "code",
   "execution_count": 11,
   "metadata": {},
   "outputs": [
    {
     "data": {
      "text/html": [
       "<div>\n",
       "<style scoped>\n",
       "    .dataframe tbody tr th:only-of-type {\n",
       "        vertical-align: middle;\n",
       "    }\n",
       "\n",
       "    .dataframe tbody tr th {\n",
       "        vertical-align: top;\n",
       "    }\n",
       "\n",
       "    .dataframe thead th {\n",
       "        text-align: right;\n",
       "    }\n",
       "</style>\n",
       "<table border=\"1\" class=\"dataframe\">\n",
       "  <thead>\n",
       "    <tr style=\"text-align: right;\">\n",
       "      <th></th>\n",
       "      <th>A</th>\n",
       "      <th>B</th>\n",
       "      <th>mean(A)</th>\n",
       "      <th>mean(B)</th>\n",
       "      <th>diff</th>\n",
       "      <th>se</th>\n",
       "      <th>T</th>\n",
       "      <th>p-tukey</th>\n",
       "      <th>hedges</th>\n",
       "    </tr>\n",
       "  </thead>\n",
       "  <tbody>\n",
       "    <tr>\n",
       "      <th>0</th>\n",
       "      <td>廣告1</td>\n",
       "      <td>廣告2</td>\n",
       "      <td>17.135167</td>\n",
       "      <td>15.592417</td>\n",
       "      <td>1.54275</td>\n",
       "      <td>0.781281</td>\n",
       "      <td>1.974642</td>\n",
       "      <td>0.120126</td>\n",
       "      <td>0.254121</td>\n",
       "    </tr>\n",
       "    <tr>\n",
       "      <th>1</th>\n",
       "      <td>廣告1</td>\n",
       "      <td>廣告3</td>\n",
       "      <td>17.135167</td>\n",
       "      <td>15.748167</td>\n",
       "      <td>1.38700</td>\n",
       "      <td>0.781281</td>\n",
       "      <td>1.775290</td>\n",
       "      <td>0.179498</td>\n",
       "      <td>0.228466</td>\n",
       "    </tr>\n",
       "    <tr>\n",
       "      <th>2</th>\n",
       "      <td>廣告2</td>\n",
       "      <td>廣告3</td>\n",
       "      <td>15.592417</td>\n",
       "      <td>15.748167</td>\n",
       "      <td>-0.15575</td>\n",
       "      <td>0.781281</td>\n",
       "      <td>-0.199352</td>\n",
       "      <td>0.900000</td>\n",
       "      <td>-0.025655</td>\n",
       "    </tr>\n",
       "  </tbody>\n",
       "</table>\n",
       "</div>"
      ],
      "text/plain": [
       "     A    B    mean(A)    mean(B)     diff        se         T   p-tukey  \\\n",
       "0  廣告1  廣告2  17.135167  15.592417  1.54275  0.781281  1.974642  0.120126   \n",
       "1  廣告1  廣告3  17.135167  15.748167  1.38700  0.781281  1.775290  0.179498   \n",
       "2  廣告2  廣告3  15.592417  15.748167 -0.15575  0.781281 -0.199352  0.900000   \n",
       "\n",
       "     hedges  \n",
       "0  0.254121  \n",
       "1  0.228466  \n",
       "2 -0.025655  "
      ]
     },
     "execution_count": 11,
     "metadata": {},
     "output_type": "execute_result"
    }
   ],
   "source": [
    "m_comp"
   ]
  },
  {
   "cell_type": "code",
   "execution_count": 12,
   "metadata": {},
   "outputs": [
    {
     "data": {
      "text/html": [
       "<div>\n",
       "<style scoped>\n",
       "    .dataframe tbody tr th:only-of-type {\n",
       "        vertical-align: middle;\n",
       "    }\n",
       "\n",
       "    .dataframe tbody tr th {\n",
       "        vertical-align: top;\n",
       "    }\n",
       "\n",
       "    .dataframe thead th {\n",
       "        text-align: right;\n",
       "    }\n",
       "</style>\n",
       "<table border=\"1\" class=\"dataframe\">\n",
       "  <thead>\n",
       "    <tr style=\"text-align: right;\">\n",
       "      <th></th>\n",
       "      <th>A</th>\n",
       "      <th>B</th>\n",
       "      <th>diff</th>\n",
       "      <th>se</th>\n",
       "    </tr>\n",
       "  </thead>\n",
       "  <tbody>\n",
       "    <tr>\n",
       "      <th>0</th>\n",
       "      <td>廣告1</td>\n",
       "      <td>廣告2</td>\n",
       "      <td>1.54275</td>\n",
       "      <td>0.781281</td>\n",
       "    </tr>\n",
       "    <tr>\n",
       "      <th>1</th>\n",
       "      <td>廣告1</td>\n",
       "      <td>廣告3</td>\n",
       "      <td>1.38700</td>\n",
       "      <td>0.781281</td>\n",
       "    </tr>\n",
       "    <tr>\n",
       "      <th>2</th>\n",
       "      <td>廣告2</td>\n",
       "      <td>廣告3</td>\n",
       "      <td>-0.15575</td>\n",
       "      <td>0.781281</td>\n",
       "    </tr>\n",
       "  </tbody>\n",
       "</table>\n",
       "</div>"
      ],
      "text/plain": [
       "     A    B     diff        se\n",
       "0  廣告1  廣告2  1.54275  0.781281\n",
       "1  廣告1  廣告3  1.38700  0.781281\n",
       "2  廣告2  廣告3 -0.15575  0.781281"
      ]
     },
     "execution_count": 12,
     "metadata": {},
     "output_type": "execute_result"
    }
   ],
   "source": [
    "table = m_comp.drop(columns = ['mean(A)', 'mean(B)', 'T', 'p-tukey', 'hedges'])\n",
    "table"
   ]
  },
  {
   "cell_type": "markdown",
   "metadata": {},
   "source": [
    "# 新資料表"
   ]
  },
  {
   "cell_type": "code",
   "execution_count": 13,
   "metadata": {},
   "outputs": [],
   "source": [
    "# 「A」欄反轉資料\n",
    "add_A = table['B'].tolist()\n",
    "# 「B」欄反轉資料\n",
    "add_B = table['A'].tolist()\n",
    "# 「diff」欄反轉資料\n",
    "diff =  (table['diff'] - 2 * table['diff']).tolist()\n",
    "# 「se」欄反轉資料\n",
    "se = table['se'].tolist()\n",
    "# 將反轉資料合併\n",
    "table2 = pd.DataFrame(zip(add_A, add_B, diff, se), columns = ['A', 'B', 'diff', 'se'])"
   ]
  },
  {
   "cell_type": "code",
   "execution_count": 14,
   "metadata": {},
   "outputs": [
    {
     "data": {
      "text/html": [
       "<div>\n",
       "<style scoped>\n",
       "    .dataframe tbody tr th:only-of-type {\n",
       "        vertical-align: middle;\n",
       "    }\n",
       "\n",
       "    .dataframe tbody tr th {\n",
       "        vertical-align: top;\n",
       "    }\n",
       "\n",
       "    .dataframe thead th {\n",
       "        text-align: right;\n",
       "    }\n",
       "</style>\n",
       "<table border=\"1\" class=\"dataframe\">\n",
       "  <thead>\n",
       "    <tr style=\"text-align: right;\">\n",
       "      <th></th>\n",
       "      <th>A</th>\n",
       "      <th>B</th>\n",
       "      <th>diff</th>\n",
       "      <th>se</th>\n",
       "    </tr>\n",
       "  </thead>\n",
       "  <tbody>\n",
       "    <tr>\n",
       "      <th>0</th>\n",
       "      <td>廣告2</td>\n",
       "      <td>廣告1</td>\n",
       "      <td>-1.54275</td>\n",
       "      <td>0.781281</td>\n",
       "    </tr>\n",
       "    <tr>\n",
       "      <th>1</th>\n",
       "      <td>廣告3</td>\n",
       "      <td>廣告1</td>\n",
       "      <td>-1.38700</td>\n",
       "      <td>0.781281</td>\n",
       "    </tr>\n",
       "    <tr>\n",
       "      <th>2</th>\n",
       "      <td>廣告3</td>\n",
       "      <td>廣告2</td>\n",
       "      <td>0.15575</td>\n",
       "      <td>0.781281</td>\n",
       "    </tr>\n",
       "  </tbody>\n",
       "</table>\n",
       "</div>"
      ],
      "text/plain": [
       "     A    B     diff        se\n",
       "0  廣告2  廣告1 -1.54275  0.781281\n",
       "1  廣告3  廣告1 -1.38700  0.781281\n",
       "2  廣告3  廣告2  0.15575  0.781281"
      ]
     },
     "execution_count": 14,
     "metadata": {},
     "output_type": "execute_result"
    }
   ],
   "source": [
    "table2"
   ]
  },
  {
   "cell_type": "code",
   "execution_count": 15,
   "metadata": {},
   "outputs": [],
   "source": [
    "new_table = pd.concat([table, table2], ignore_index=True)"
   ]
  },
  {
   "cell_type": "code",
   "execution_count": 16,
   "metadata": {},
   "outputs": [
    {
     "data": {
      "text/html": [
       "<div>\n",
       "<style scoped>\n",
       "    .dataframe tbody tr th:only-of-type {\n",
       "        vertical-align: middle;\n",
       "    }\n",
       "\n",
       "    .dataframe tbody tr th {\n",
       "        vertical-align: top;\n",
       "    }\n",
       "\n",
       "    .dataframe thead th {\n",
       "        text-align: right;\n",
       "    }\n",
       "</style>\n",
       "<table border=\"1\" class=\"dataframe\">\n",
       "  <thead>\n",
       "    <tr style=\"text-align: right;\">\n",
       "      <th></th>\n",
       "      <th>A</th>\n",
       "      <th>B</th>\n",
       "      <th>diff</th>\n",
       "      <th>se</th>\n",
       "    </tr>\n",
       "  </thead>\n",
       "  <tbody>\n",
       "    <tr>\n",
       "      <th>0</th>\n",
       "      <td>廣告1</td>\n",
       "      <td>廣告2</td>\n",
       "      <td>1.54275</td>\n",
       "      <td>0.781281</td>\n",
       "    </tr>\n",
       "    <tr>\n",
       "      <th>1</th>\n",
       "      <td>廣告1</td>\n",
       "      <td>廣告3</td>\n",
       "      <td>1.38700</td>\n",
       "      <td>0.781281</td>\n",
       "    </tr>\n",
       "    <tr>\n",
       "      <th>2</th>\n",
       "      <td>廣告2</td>\n",
       "      <td>廣告3</td>\n",
       "      <td>-0.15575</td>\n",
       "      <td>0.781281</td>\n",
       "    </tr>\n",
       "    <tr>\n",
       "      <th>3</th>\n",
       "      <td>廣告2</td>\n",
       "      <td>廣告1</td>\n",
       "      <td>-1.54275</td>\n",
       "      <td>0.781281</td>\n",
       "    </tr>\n",
       "    <tr>\n",
       "      <th>4</th>\n",
       "      <td>廣告3</td>\n",
       "      <td>廣告1</td>\n",
       "      <td>-1.38700</td>\n",
       "      <td>0.781281</td>\n",
       "    </tr>\n",
       "    <tr>\n",
       "      <th>5</th>\n",
       "      <td>廣告3</td>\n",
       "      <td>廣告2</td>\n",
       "      <td>0.15575</td>\n",
       "      <td>0.781281</td>\n",
       "    </tr>\n",
       "  </tbody>\n",
       "</table>\n",
       "</div>"
      ],
      "text/plain": [
       "     A    B     diff        se\n",
       "0  廣告1  廣告2  1.54275  0.781281\n",
       "1  廣告1  廣告3  1.38700  0.781281\n",
       "2  廣告2  廣告3 -0.15575  0.781281\n",
       "3  廣告2  廣告1 -1.54275  0.781281\n",
       "4  廣告3  廣告1 -1.38700  0.781281\n",
       "5  廣告3  廣告2  0.15575  0.781281"
      ]
     },
     "execution_count": 16,
     "metadata": {},
     "output_type": "execute_result"
    }
   ],
   "source": [
    "new_table"
   ]
  },
  {
   "cell_type": "code",
   "execution_count": 17,
   "metadata": {},
   "outputs": [],
   "source": [
    "new_table['上界'] = new_table['diff'] + new_table['se']*1.96\n",
    "new_table['下界'] = new_table['diff'] - new_table['se']*1.96"
   ]
  },
  {
   "cell_type": "code",
   "execution_count": 18,
   "metadata": {},
   "outputs": [
    {
     "data": {
      "text/html": [
       "<div>\n",
       "<style scoped>\n",
       "    .dataframe tbody tr th:only-of-type {\n",
       "        vertical-align: middle;\n",
       "    }\n",
       "\n",
       "    .dataframe tbody tr th {\n",
       "        vertical-align: top;\n",
       "    }\n",
       "\n",
       "    .dataframe thead th {\n",
       "        text-align: right;\n",
       "    }\n",
       "</style>\n",
       "<table border=\"1\" class=\"dataframe\">\n",
       "  <thead>\n",
       "    <tr style=\"text-align: right;\">\n",
       "      <th></th>\n",
       "      <th>A</th>\n",
       "      <th>B</th>\n",
       "      <th>diff</th>\n",
       "      <th>se</th>\n",
       "      <th>上界</th>\n",
       "      <th>下界</th>\n",
       "    </tr>\n",
       "  </thead>\n",
       "  <tbody>\n",
       "    <tr>\n",
       "      <th>0</th>\n",
       "      <td>廣告1</td>\n",
       "      <td>廣告2</td>\n",
       "      <td>1.54275</td>\n",
       "      <td>0.781281</td>\n",
       "      <td>3.074061</td>\n",
       "      <td>0.011439</td>\n",
       "    </tr>\n",
       "    <tr>\n",
       "      <th>1</th>\n",
       "      <td>廣告1</td>\n",
       "      <td>廣告3</td>\n",
       "      <td>1.38700</td>\n",
       "      <td>0.781281</td>\n",
       "      <td>2.918311</td>\n",
       "      <td>-0.144311</td>\n",
       "    </tr>\n",
       "    <tr>\n",
       "      <th>2</th>\n",
       "      <td>廣告2</td>\n",
       "      <td>廣告3</td>\n",
       "      <td>-0.15575</td>\n",
       "      <td>0.781281</td>\n",
       "      <td>1.375561</td>\n",
       "      <td>-1.687061</td>\n",
       "    </tr>\n",
       "    <tr>\n",
       "      <th>3</th>\n",
       "      <td>廣告2</td>\n",
       "      <td>廣告1</td>\n",
       "      <td>-1.54275</td>\n",
       "      <td>0.781281</td>\n",
       "      <td>-0.011439</td>\n",
       "      <td>-3.074061</td>\n",
       "    </tr>\n",
       "    <tr>\n",
       "      <th>4</th>\n",
       "      <td>廣告3</td>\n",
       "      <td>廣告1</td>\n",
       "      <td>-1.38700</td>\n",
       "      <td>0.781281</td>\n",
       "      <td>0.144311</td>\n",
       "      <td>-2.918311</td>\n",
       "    </tr>\n",
       "    <tr>\n",
       "      <th>5</th>\n",
       "      <td>廣告3</td>\n",
       "      <td>廣告2</td>\n",
       "      <td>0.15575</td>\n",
       "      <td>0.781281</td>\n",
       "      <td>1.687061</td>\n",
       "      <td>-1.375561</td>\n",
       "    </tr>\n",
       "  </tbody>\n",
       "</table>\n",
       "</div>"
      ],
      "text/plain": [
       "     A    B     diff        se        上界        下界\n",
       "0  廣告1  廣告2  1.54275  0.781281  3.074061  0.011439\n",
       "1  廣告1  廣告3  1.38700  0.781281  2.918311 -0.144311\n",
       "2  廣告2  廣告3 -0.15575  0.781281  1.375561 -1.687061\n",
       "3  廣告2  廣告1 -1.54275  0.781281 -0.011439 -3.074061\n",
       "4  廣告3  廣告1 -1.38700  0.781281  0.144311 -2.918311\n",
       "5  廣告3  廣告2  0.15575  0.781281  1.687061 -1.375561"
      ]
     },
     "execution_count": 18,
     "metadata": {},
     "output_type": "execute_result"
    }
   ],
   "source": [
    "new_table"
   ]
  },
  {
   "cell_type": "code",
   "execution_count": 26,
   "metadata": {},
   "outputs": [],
   "source": [
    "import numpy as np\n",
    "new_table['顯著']=np.NaN\n",
    "for x in range(len(new_table)):\n",
    "    if np.sign(new_table.iloc[x,4])==1.0:\n",
    "        if np.sign(new_table.iloc[x,5])==1.0:\n",
    "            new_table.iloc[x,-1]='Yes'\n",
    "        else:\n",
    "            new_table.iloc[x,-1]='No'\n",
    "    else:\n",
    "        if np.sign(new_table.iloc[x,4])!=1.0:\n",
    "            new_table.iloc[x,-1]='Yes'\n",
    "        else:\n",
    "            new_table.iloc[x,-1]='No'"
   ]
  },
  {
   "cell_type": "code",
   "execution_count": 27,
   "metadata": {},
   "outputs": [
    {
     "data": {
      "text/html": [
       "<div>\n",
       "<style scoped>\n",
       "    .dataframe tbody tr th:only-of-type {\n",
       "        vertical-align: middle;\n",
       "    }\n",
       "\n",
       "    .dataframe tbody tr th {\n",
       "        vertical-align: top;\n",
       "    }\n",
       "\n",
       "    .dataframe thead th {\n",
       "        text-align: right;\n",
       "    }\n",
       "</style>\n",
       "<table border=\"1\" class=\"dataframe\">\n",
       "  <thead>\n",
       "    <tr style=\"text-align: right;\">\n",
       "      <th></th>\n",
       "      <th>A</th>\n",
       "      <th>B</th>\n",
       "      <th>diff</th>\n",
       "      <th>se</th>\n",
       "      <th>上界</th>\n",
       "      <th>下界</th>\n",
       "      <th>顯著</th>\n",
       "    </tr>\n",
       "  </thead>\n",
       "  <tbody>\n",
       "    <tr>\n",
       "      <th>0</th>\n",
       "      <td>廣告1</td>\n",
       "      <td>廣告2</td>\n",
       "      <td>1.54275</td>\n",
       "      <td>0.781281</td>\n",
       "      <td>3.074061</td>\n",
       "      <td>0.011439</td>\n",
       "      <td>Yes</td>\n",
       "    </tr>\n",
       "    <tr>\n",
       "      <th>1</th>\n",
       "      <td>廣告1</td>\n",
       "      <td>廣告3</td>\n",
       "      <td>1.38700</td>\n",
       "      <td>0.781281</td>\n",
       "      <td>2.918311</td>\n",
       "      <td>-0.144311</td>\n",
       "      <td>No</td>\n",
       "    </tr>\n",
       "    <tr>\n",
       "      <th>2</th>\n",
       "      <td>廣告2</td>\n",
       "      <td>廣告3</td>\n",
       "      <td>-0.15575</td>\n",
       "      <td>0.781281</td>\n",
       "      <td>1.375561</td>\n",
       "      <td>-1.687061</td>\n",
       "      <td>No</td>\n",
       "    </tr>\n",
       "    <tr>\n",
       "      <th>3</th>\n",
       "      <td>廣告2</td>\n",
       "      <td>廣告1</td>\n",
       "      <td>-1.54275</td>\n",
       "      <td>0.781281</td>\n",
       "      <td>-0.011439</td>\n",
       "      <td>-3.074061</td>\n",
       "      <td>Yes</td>\n",
       "    </tr>\n",
       "    <tr>\n",
       "      <th>4</th>\n",
       "      <td>廣告3</td>\n",
       "      <td>廣告1</td>\n",
       "      <td>-1.38700</td>\n",
       "      <td>0.781281</td>\n",
       "      <td>0.144311</td>\n",
       "      <td>-2.918311</td>\n",
       "      <td>No</td>\n",
       "    </tr>\n",
       "    <tr>\n",
       "      <th>5</th>\n",
       "      <td>廣告3</td>\n",
       "      <td>廣告2</td>\n",
       "      <td>0.15575</td>\n",
       "      <td>0.781281</td>\n",
       "      <td>1.687061</td>\n",
       "      <td>-1.375561</td>\n",
       "      <td>No</td>\n",
       "    </tr>\n",
       "  </tbody>\n",
       "</table>\n",
       "</div>"
      ],
      "text/plain": [
       "     A    B     diff        se        上界        下界   顯著\n",
       "0  廣告1  廣告2  1.54275  0.781281  3.074061  0.011439  Yes\n",
       "1  廣告1  廣告3  1.38700  0.781281  2.918311 -0.144311   No\n",
       "2  廣告2  廣告3 -0.15575  0.781281  1.375561 -1.687061   No\n",
       "3  廣告2  廣告1 -1.54275  0.781281 -0.011439 -3.074061  Yes\n",
       "4  廣告3  廣告1 -1.38700  0.781281  0.144311 -2.918311   No\n",
       "5  廣告3  廣告2  0.15575  0.781281  1.687061 -1.375561   No"
      ]
     },
     "execution_count": 27,
     "metadata": {},
     "output_type": "execute_result"
    }
   ],
   "source": [
    "new_table"
   ]
  },
  {
   "cell_type": "code",
   "execution_count": 31,
   "metadata": {},
   "outputs": [
    {
     "data": {
      "text/plain": [
       "'One-Way ANOVA 廣告效益分析.html'"
      ]
     },
     "execution_count": 31,
     "metadata": {},
     "output_type": "execute_result"
    }
   ],
   "source": [
    "import plotly.offline as py\n",
    "import plotly.graph_objects as go\n",
    "fig = go.Figure()\n",
    "for i in range(0, new_table.shape[0]):\n",
    "      if new_table.iloc[i,6] == 'Yes':\n",
    "          color = 'firebrick'\n",
    "          name = '顯著'\n",
    "      else:\n",
    "          color = 'green'\n",
    "          name = '不顯著'\n",
    "      fig.add_trace(go.Scatter(\n",
    "          x = [new_table.iloc[i,5], new_table.iloc[i,2], new_table.iloc[i,4]],\n",
    "          y = [new_table.iloc[i,0] + '-' + new_table.iloc[i,1], new_table.iloc[i,0] + '-' + new_table.iloc[i,1], new_table.iloc[i,0] + '-' + new_table.iloc[i,1]],\n",
    "          mode = \"lines+markers\",\n",
    "          textfont=dict(\n",
    "family=\"sans serif\",\n",
    "              size=16,\n",
    "              color=color),    \n",
    "            line=dict(color=color, width=2),\n",
    "          name = name,\n",
    "          legendgroup = name,\n",
    "          ))\n",
    "    \n",
    "fig.update_layout(\n",
    "      title={\n",
    "          'text': \"<b>One-Way ANOVA 廣告效益分析</b>\",\n",
    "          'y':0.95,\n",
    "          'x':0.5,\n",
    "          'xanchor': 'center',},\n",
    "      width=1000,\n",
    "      height=800,\n",
    "      boxmode='group',\n",
    "      font=dict(\n",
    "          family=\"Courier New, monospace\",\n",
    "          size=20,\n",
    "          color=\"lightslategrey\"\n",
    "      )\n",
    "      )\n",
    "\n",
    "# 另存互動式網頁\n",
    "py.plot(fig, filename='One-Way ANOVA 廣告效益分析', auto_open=True)"
   ]
  },
  {
   "cell_type": "code",
   "execution_count": null,
   "metadata": {},
   "outputs": [],
   "source": []
  }
 ],
 "metadata": {
  "kernelspec": {
   "display_name": "Python 3",
   "language": "python",
   "name": "python3"
  },
  "language_info": {
   "codemirror_mode": {
    "name": "ipython",
    "version": 3
   },
   "file_extension": ".py",
   "mimetype": "text/x-python",
   "name": "python",
   "nbconvert_exporter": "python",
   "pygments_lexer": "ipython3",
   "version": "3.8.5"
  }
 },
 "nbformat": 4,
 "nbformat_minor": 4
}
